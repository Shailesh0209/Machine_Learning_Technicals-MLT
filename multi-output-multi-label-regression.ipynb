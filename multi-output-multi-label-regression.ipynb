{
 "cells": [
  {
   "cell_type": "code",
   "execution_count": 1,
   "id": "03b6c197",
   "metadata": {
    "_cell_guid": "b1076dfc-b9ad-4769-8c92-a6c4dae69d19",
    "_uuid": "8f2839f25d086af736a60e9eeb907d3b93b6e0e5",
    "execution": {
     "iopub.execute_input": "2022-05-27T18:56:14.207795Z",
     "iopub.status.busy": "2022-05-27T18:56:14.207128Z",
     "iopub.status.idle": "2022-05-27T18:56:14.222314Z",
     "shell.execute_reply": "2022-05-27T18:56:14.221485Z"
    },
    "papermill": {
     "duration": 0.029801,
     "end_time": "2022-05-27T18:56:14.224671",
     "exception": false,
     "start_time": "2022-05-27T18:56:14.194870",
     "status": "completed"
    },
    "tags": []
   },
   "outputs": [],
   "source": [
    "# This Python 3 environment comes with many helpful analytics libraries installed\n",
    "# It is defined by the kaggle/python Docker image: https://github.com/kaggle/docker-python\n",
    "# For example, here's several helpful packages to load\n",
    "\n",
    "import numpy as np # linear algebra\n",
    "import pandas as pd # data processing, CSV file I/O (e.g. pd.read_csv)\n",
    "\n",
    "# Input data files are available in the read-only \"../input/\" directory\n",
    "# For example, running this (by clicking run or pressing Shift+Enter) will list all files under the input directory\n",
    "\n",
    "import os\n",
    "for dirname, _, filenames in os.walk('/kaggle/input'):\n",
    "    for filename in filenames:\n",
    "        print(os.path.join(dirname, filename))\n",
    "\n",
    "# You can write up to 20GB to the current directory (/kaggle/working/) that gets preserved as output when you create a version using \"Save & Run All\" \n",
    "# You can also write temporary files to /kaggle/temp/, but they won't be saved outside of the current session"
   ]
  },
  {
   "cell_type": "markdown",
   "id": "e7c5d19a",
   "metadata": {
    "papermill": {
     "duration": 0.006863,
     "end_time": "2022-05-27T18:56:14.239094",
     "exception": false,
     "start_time": "2022-05-27T18:56:14.232231",
     "status": "completed"
    },
    "tags": []
   },
   "source": [
    "#### x_w3_L9(last lec)-mlt-dip-iitm"
   ]
  },
  {
   "cell_type": "markdown",
   "id": "93ae85f1",
   "metadata": {
    "papermill": {
     "duration": 0.007088,
     "end_time": "2022-05-27T18:56:14.253505",
     "exception": false,
     "start_time": "2022-05-27T18:56:14.246417",
     "status": "completed"
    },
    "tags": []
   },
   "source": [
    "# Multi-output/Multi-label Regression\n",
    "In case of multi-output regression, there are more than one output labels, all of which are real numbers."
   ]
  },
  {
   "cell_type": "markdown",
   "id": "56890f2d",
   "metadata": {
    "papermill": {
     "duration": 0.00697,
     "end_time": "2022-05-27T18:56:14.267595",
     "exception": false,
     "start_time": "2022-05-27T18:56:14.260625",
     "status": "completed"
    },
    "tags": []
   },
   "source": [
    "## Training data"
   ]
  },
  {
   "cell_type": "markdown",
   "id": "5b596a71",
   "metadata": {
    "papermill": {
     "duration": 0.007222,
     "end_time": "2022-05-27T18:56:14.281951",
     "exception": false,
     "start_time": "2022-05-27T18:56:14.274729",
     "status": "completed"
    },
    "tags": []
   },
   "source": [
    "let's generate synthetic data for demonstrating the training set in multi-output regression using make_regression dataset generation function from sklearn library."
   ]
  },
  {
   "cell_type": "code",
   "execution_count": 2,
   "id": "c7da7431",
   "metadata": {
    "execution": {
     "iopub.execute_input": "2022-05-27T18:56:14.298706Z",
     "iopub.status.busy": "2022-05-27T18:56:14.298257Z",
     "iopub.status.idle": "2022-05-27T18:56:15.462257Z",
     "shell.execute_reply": "2022-05-27T18:56:15.461329Z"
    },
    "papermill": {
     "duration": 1.175561,
     "end_time": "2022-05-27T18:56:15.465078",
     "exception": false,
     "start_time": "2022-05-27T18:56:14.289517",
     "status": "completed"
    },
    "tags": []
   },
   "outputs": [],
   "source": [
    "from sklearn.datasets import make_regression\n",
    "X, y, coef = make_regression(n_samples=100, n_features=10, n_informative=10, bias=1, n_targets=5, shuffle=True, coef=True, random_state=42)"
   ]
  },
  {
   "cell_type": "code",
   "execution_count": 3,
   "id": "12de4fa9",
   "metadata": {
    "execution": {
     "iopub.execute_input": "2022-05-27T18:56:15.481547Z",
     "iopub.status.busy": "2022-05-27T18:56:15.481150Z",
     "iopub.status.idle": "2022-05-27T18:56:15.485856Z",
     "shell.execute_reply": "2022-05-27T18:56:15.484978Z"
    },
    "papermill": {
     "duration": 0.016835,
     "end_time": "2022-05-27T18:56:15.489623",
     "exception": false,
     "start_time": "2022-05-27T18:56:15.472788",
     "status": "completed"
    },
    "tags": []
   },
   "outputs": [
    {
     "name": "stdout",
     "output_type": "stream",
     "text": [
      "(100, 10)\n",
      "(100, 5)\n"
     ]
    }
   ],
   "source": [
    "print(X.shape)\n",
    "print(y.shape)"
   ]
  },
  {
   "cell_type": "markdown",
   "id": "b5b4822b",
   "metadata": {
    "papermill": {
     "duration": 0.006909,
     "end_time": "2022-05-27T18:56:15.504841",
     "exception": false,
     "start_time": "2022-05-27T18:56:15.497932",
     "status": "completed"
    },
    "tags": []
   },
   "source": [
    "Let's examine first five examples in terms of their features and labels:"
   ]
  },
  {
   "cell_type": "code",
   "execution_count": 4,
   "id": "21ce4dd7",
   "metadata": {
    "execution": {
     "iopub.execute_input": "2022-05-27T18:56:15.521046Z",
     "iopub.status.busy": "2022-05-27T18:56:15.520641Z",
     "iopub.status.idle": "2022-05-27T18:56:15.527788Z",
     "shell.execute_reply": "2022-05-27T18:56:15.526611Z"
    },
    "papermill": {
     "duration": 0.018309,
     "end_time": "2022-05-27T18:56:15.530414",
     "exception": false,
     "start_time": "2022-05-27T18:56:15.512105",
     "status": "completed"
    },
    "tags": []
   },
   "outputs": [
    {
     "name": "stdout",
     "output_type": "stream",
     "text": [
      "Sample training examples:\n",
      "  [[-2.07339023 -0.37144087  1.27155509  1.75227044  0.93567839 -1.40751169\n",
      "  -0.77781669 -0.34268759 -1.11057585  1.24608519]\n",
      " [-0.90938745 -1.40185106 -0.50347565 -0.56629773  0.09965137  0.58685709\n",
      "   2.19045563  1.40279431 -0.99053633  0.79103195]\n",
      " [-0.18565898 -1.19620662 -0.64511975  1.0035329   0.36163603  0.81252582\n",
      "   1.35624003 -1.10633497 -0.07201012 -0.47917424]\n",
      " [ 0.03526355  0.21397991 -0.57581824  0.75750771 -0.53050115 -0.11232805\n",
      "  -0.2209696  -0.69972551  0.6141667   1.96472513]\n",
      " [-0.51604473 -0.46227529 -0.8946073  -0.47874862  1.25575613 -0.43449623\n",
      "  -0.30917212  0.09612078  0.22213377  0.93828381]]\n",
      "\n",
      "\n",
      "Corresponding labels:\n",
      "  [[-133.15919852  -88.95797818   98.19127175   25.68295511 -132.79294654]\n",
      " [-110.38909784  146.04459736 -169.58916067  118.96066861 -177.08414159]\n",
      " [ -97.80350267    4.32654061  -87.56082281   -5.58466452    6.36897388]\n",
      " [  25.39024616  -70.41180117  186.15213706  132.77153362   53.42301307]\n",
      " [-140.61925153  -53.87007831 -101.11514549 -113.36926374 -115.61959345]]\n"
     ]
    }
   ],
   "source": [
    "print(\"Sample training examples:\\n \", X[:5])\n",
    "print(\"\\n\")\n",
    "print(\"Corresponding labels:\\n \", y[:5])"
   ]
  },
  {
   "cell_type": "markdown",
   "id": "185afc67",
   "metadata": {
    "papermill": {
     "duration": 0.007123,
     "end_time": "2022-05-27T18:56:15.545166",
     "exception": false,
     "start_time": "2022-05-27T18:56:15.538043",
     "status": "completed"
    },
    "tags": []
   },
   "source": [
    "and the coefficients or weight vector used for generating this dataset is  "
   ]
  },
  {
   "cell_type": "code",
   "execution_count": 5,
   "id": "381d5bf0",
   "metadata": {
    "execution": {
     "iopub.execute_input": "2022-05-27T18:56:15.561937Z",
     "iopub.status.busy": "2022-05-27T18:56:15.561299Z",
     "iopub.status.idle": "2022-05-27T18:56:15.571149Z",
     "shell.execute_reply": "2022-05-27T18:56:15.570077Z"
    },
    "papermill": {
     "duration": 0.020537,
     "end_time": "2022-05-27T18:56:15.573234",
     "exception": false,
     "start_time": "2022-05-27T18:56:15.552697",
     "status": "completed"
    },
    "tags": []
   },
   "outputs": [
    {
     "data": {
      "text/plain": [
       "array([[93.62122462,  5.19712837, 54.12963353, 70.90605195, 87.09691237],\n",
       "       [89.48166561, 54.75923762, 81.729777  , 45.23182845, 64.35776952],\n",
       "       [46.26229567, 86.82725054, 72.71690698, 74.27065212, 42.54933344],\n",
       "       [71.92017783, 22.84547413, 99.63339161, 97.47931621, 65.03256863],\n",
       "       [19.95424509, 68.02282424,  7.2198409 ,  3.06525022, 25.76828885],\n",
       "       [52.64026609, 73.15895218,  8.1629982 ,  6.0352084 , 24.7103234 ],\n",
       "       [15.95446801, 87.17835666, 21.92139874, 97.58652558, 33.68957918],\n",
       "       [71.40869321, 80.17280831, 33.94501925, 81.48251137,  8.01148464],\n",
       "       [18.21179157, 78.96985071, 65.87077755, 49.81957165, 55.53635509],\n",
       "       [16.74825823, 10.45678403, 63.64302495, 70.64757265,  3.15861448]])"
      ]
     },
     "execution_count": 5,
     "metadata": {},
     "output_type": "execute_result"
    }
   ],
   "source": [
    "coef"
   ]
  },
  {
   "cell_type": "markdown",
   "id": "83667afb",
   "metadata": {
    "papermill": {
     "duration": 0.007358,
     "end_time": "2022-05-27T18:56:15.588374",
     "exception": false,
     "start_time": "2022-05-27T18:56:15.581016",
     "status": "completed"
    },
    "tags": []
   },
   "source": [
    "## [Preprocessing: Dummy feature and train-test split]"
   ]
  },
  {
   "cell_type": "code",
   "execution_count": 6,
   "id": "73011940",
   "metadata": {
    "execution": {
     "iopub.execute_input": "2022-05-27T18:56:15.605663Z",
     "iopub.status.busy": "2022-05-27T18:56:15.605038Z",
     "iopub.status.idle": "2022-05-27T18:56:15.663285Z",
     "shell.execute_reply": "2022-05-27T18:56:15.662477Z"
    },
    "papermill": {
     "duration": 0.069401,
     "end_time": "2022-05-27T18:56:15.665567",
     "exception": false,
     "start_time": "2022-05-27T18:56:15.596166",
     "status": "completed"
    },
    "tags": []
   },
   "outputs": [],
   "source": [
    "from sklearn.model_selection import train_test_split"
   ]
  },
  {
   "cell_type": "code",
   "execution_count": 7,
   "id": "178bcf12",
   "metadata": {
    "execution": {
     "iopub.execute_input": "2022-05-27T18:56:15.682889Z",
     "iopub.status.busy": "2022-05-27T18:56:15.682245Z",
     "iopub.status.idle": "2022-05-27T18:56:15.689448Z",
     "shell.execute_reply": "2022-05-27T18:56:15.688753Z"
    },
    "papermill": {
     "duration": 0.018111,
     "end_time": "2022-05-27T18:56:15.691465",
     "exception": false,
     "start_time": "2022-05-27T18:56:15.673354",
     "status": "completed"
    },
    "tags": []
   },
   "outputs": [],
   "source": [
    "def add_dummy_feature(X):\n",
    "    # np.column_stack((np.ones(x.shape[0]) x))\n",
    "    X_dummyFeature = np.column_stack((np.ones(X.shape[0]), X))\n",
    "    return X_dummyFeature\n",
    "\n",
    "def trainTestSplit(X, y):\n",
    "    return train_test_split(X,y, test_size=.2,random_state=42 )\n",
    "\n",
    "def preprocess(X, y):\n",
    "    X_withdummyfeature = add_dummy_feature(X)\n",
    "    X_train, X_test, y_train, y_test = trainTestSplit(X_withdummyfeature, y)\n",
    "    return (X_train, X_test, y_train, y_test)"
   ]
  },
  {
   "cell_type": "code",
   "execution_count": null,
   "id": "0d890b5b",
   "metadata": {
    "papermill": {
     "duration": 0.007118,
     "end_time": "2022-05-27T18:56:15.706321",
     "exception": false,
     "start_time": "2022-05-27T18:56:15.699203",
     "status": "completed"
    },
    "tags": []
   },
   "outputs": [],
   "source": []
  },
  {
   "cell_type": "code",
   "execution_count": 8,
   "id": "7e55095d",
   "metadata": {
    "execution": {
     "iopub.execute_input": "2022-05-27T18:56:15.722617Z",
     "iopub.status.busy": "2022-05-27T18:56:15.722186Z",
     "iopub.status.idle": "2022-05-27T18:56:15.728070Z",
     "shell.execute_reply": "2022-05-27T18:56:15.727300Z"
    },
    "papermill": {
     "duration": 0.016448,
     "end_time": "2022-05-27T18:56:15.730065",
     "exception": false,
     "start_time": "2022-05-27T18:56:15.713617",
     "status": "completed"
    },
    "tags": []
   },
   "outputs": [],
   "source": [
    "X_train, X_test, y_train, y_test = preprocess(X, y)"
   ]
  },
  {
   "cell_type": "markdown",
   "id": "9501c988",
   "metadata": {
    "papermill": {
     "duration": 0.007509,
     "end_time": "2022-05-27T18:56:15.745251",
     "exception": false,
     "start_time": "2022-05-27T18:56:15.737742",
     "status": "completed"
    },
    "tags": []
   },
   "source": [
    "## Model"
   ]
  },
  {
   "cell_type": "markdown",
   "id": "1578a259",
   "metadata": {
    "papermill": {
     "duration": 0.007527,
     "end_time": "2022-05-27T18:56:15.760450",
     "exception": false,
     "start_time": "2022-05-27T18:56:15.752923",
     "status": "completed"
    },
    "tags": []
   },
   "source": [
    "There are two options for modeling this problem:\n",
    "1. Solve k independent linear regression problems. Gives some flexibility in using different representation for each problem.\n",
    "2. Solve a joint learning problem as outlined in the equation above. We would pursue this approach."
   ]
  },
  {
   "cell_type": "markdown",
   "id": "fabe79c5",
   "metadata": {
    "papermill": {
     "duration": 0.007115,
     "end_time": "2022-05-27T18:56:15.775234",
     "exception": false,
     "start_time": "2022-05-27T18:56:15.768119",
     "status": "completed"
    },
    "tags": []
   },
   "source": [
    "## Loss"
   ]
  },
  {
   "cell_type": "markdown",
   "id": "8d8e7155",
   "metadata": {
    "papermill": {
     "duration": 0.007049,
     "end_time": "2022-05-27T18:56:15.789705",
     "exception": false,
     "start_time": "2022-05-27T18:56:15.782656",
     "status": "completed"
    },
    "tags": []
   },
   "source": [
    "Loss function(loss): J(w) = (1/2)$(Xw-y)^T  (Xw - y)$"
   ]
  },
  {
   "cell_type": "markdown",
   "id": "2c74a0fd",
   "metadata": {
    "papermill": {
     "duration": 0.007047,
     "end_time": "2022-05-27T18:56:15.804195",
     "exception": false,
     "start_time": "2022-05-27T18:56:15.797148",
     "status": "completed"
    },
    "tags": []
   },
   "source": [
    "## Optimization\n",
    "1. Normal equation\n",
    "2. Gradient descent and its variations\n"
   ]
  },
  {
   "cell_type": "markdown",
   "id": "6e4fd026",
   "metadata": {
    "papermill": {
     "duration": 0.007222,
     "end_time": "2022-05-27T18:56:15.819369",
     "exception": false,
     "start_time": "2022-05-27T18:56:15.812147",
     "status": "completed"
    },
    "tags": []
   },
   "source": [
    "## Evaluation\n",
    "RMSE or Loss"
   ]
  },
  {
   "cell_type": "markdown",
   "id": "eb6c6b90",
   "metadata": {
    "papermill": {
     "duration": 0.007168,
     "end_time": "2022-05-27T18:56:15.834077",
     "exception": false,
     "start_time": "2022-05-27T18:56:15.826909",
     "status": "completed"
    },
    "tags": []
   },
   "source": [
    "# Linear regression implementation"
   ]
  },
  {
   "cell_type": "code",
   "execution_count": 9,
   "id": "16930f40",
   "metadata": {
    "execution": {
     "iopub.execute_input": "2022-05-27T18:56:15.851273Z",
     "iopub.status.busy": "2022-05-27T18:56:15.850488Z",
     "iopub.status.idle": "2022-05-27T18:56:15.879841Z",
     "shell.execute_reply": "2022-05-27T18:56:15.878894Z"
    },
    "papermill": {
     "duration": 0.040822,
     "end_time": "2022-05-27T18:56:15.882288",
     "exception": false,
     "start_time": "2022-05-27T18:56:15.841466",
     "status": "completed"
    },
    "tags": []
   },
   "outputs": [],
   "source": [
    "class LinReg(object):\n",
    "    '''\n",
    "    Linear regression model\n",
    "    -----------------------\n",
    "    y = X@w\n",
    "    X: A feature matrix\n",
    "    w: weight vector\n",
    "    y: label vector\n",
    "    \n",
    "    '''\n",
    "    def __init__(self):\n",
    "        self.t0 = 200\n",
    "        self.t1 = 100000\n",
    "        \n",
    "    def predict(self, X:np.ndarray) -> np.ndarray:\n",
    "        '''Prediction of output label for a given input.\n",
    "        Args:\n",
    "            X: Feature matrix for given inputs.\n",
    "        Returns:\n",
    "            y: Output label vector as predicted by the given model.\n",
    "        \n",
    "        '''\n",
    "        y = X @ self.w\n",
    "        return y\n",
    "    \n",
    "    def loss(self, X:np.ndarray, y:np.ndarray) -> float:\n",
    "        '''Calculate loss for a model based on known labels\n",
    "        Args:\n",
    "            X: Feature matrix for given inputs.\n",
    "            y: Output label vector as predicted by the given model.\n",
    "        Returns:\n",
    "            Loss\n",
    "        '''\n",
    "        e = y - self.predict(X)\n",
    "        return (1/2) * (np.transpose(e) @ e)\n",
    "    \n",
    "    def rmse(self, X:np.ndarray, y:np.ndarray) -> float:\n",
    "        '''Calculates root mean squared error of prediction w.r.t. actual label.\n",
    "        Args:\n",
    "            X: Feature matrix for given inputs.\n",
    "            y: Output label vector as predicted by the given model.\n",
    "        Returns:\n",
    "            Loss\n",
    "        '''\n",
    "        return np.sqrt((2/X.shape[0]) * self.loss(X, y))\n",
    "    \n",
    "    def fit(self, X:np.ndarray, y:np.ndarray) -> np.ndarray:\n",
    "        '''Estimates parameters of the linear regression model with normal equation.\n",
    "        Args:\n",
    "            X: Feature matrix for given inputs.\n",
    "            y: Output label vector as predicted by the given model.\n",
    "        Returns:\n",
    "            Weight vector\n",
    "        '''\n",
    "        self.w = np.linalg.pinv(X) @ y\n",
    "        return self.w\n",
    "    \n",
    "    def calculate_gradient(self, X:np.ndarray, y:np.ndarray)->np.ndarray:\n",
    "        '''Calculates gradients of loss function w.r.t. weight vector on training set.\n",
    "        Args:\n",
    "            X: Feature matrix for given inputs.\n",
    "            y: Output label vector as predicted by the given model.\n",
    "        Returns:\n",
    "            A vector of gradients\n",
    "        \n",
    "        '''\n",
    "        return np.transpose(X)@(self.predict(X) - y)\n",
    "    \n",
    "    def update_weights(self, grad:np.ndarray, lr:float) -> np.ndarray:\n",
    "        '''Updates the weights based on the gradient of loss function.\n",
    "        Weight updates are carried out with the following formula:\n",
    "            w_new := w_old - lr*grad\n",
    "        Args:\n",
    "            2. grad: gradient of loss w.r.t. w\n",
    "            3. lr: learning rate\n",
    "        Returns:\n",
    "            Updated weight vector\n",
    "        \n",
    "        '''\n",
    "        return (self.w - lr*grad)\n",
    "    \n",
    "    def learning_schedule(self, t):\n",
    "        return self.t0 / (t + self.t1)\n",
    "    \n",
    "    def gd(self, X:np.ndarray, y:np.ndarray, num_epochs:int, lr:float) -> np.ndarray:\n",
    "        '''Estimates parameters of linear regression model through gradient descent.\n",
    "        Args:\n",
    "            X: Feature matrix for given inputs.\n",
    "            y: Output label vector as predicted by the given model.\n",
    "            num_epochs: Number of training steps\n",
    "            lr: learning rate\n",
    "       Returns:\n",
    "            Weight vector: Final weight vector\n",
    "        \n",
    "        '''\n",
    "        self.w = np.zeros((X.shape[1], y.shape[1]))\n",
    "        self.w_all = []\n",
    "        self.err_all = []\n",
    "        for i in np.arange(0, num_epochs):\n",
    "            dJdW = self.calculate_gradient(X, y)\n",
    "            self.w_all.append(self.w)\n",
    "            self.err_all.append(self.loss(X, y))\n",
    "            self.w = self.update_weights(dJdW, lr)\n",
    "        return self.w\n",
    "    \n",
    "    def mbgd(self, X:np.ndarray, y:np.ndarray, \n",
    "                   num_epochs:int, batch_size:int) -> np.ndarray:\n",
    "        '''Estimates parameters of linear regression model through gradient descent.\n",
    "\n",
    "        Args:\n",
    "            X: Feature matrix of training data.\n",
    "            y: Label vector for training data\n",
    "            num_epochs: Number of training steps\n",
    "            batch_size: Number of examples in a batch\n",
    "        Returns:\n",
    "            Weight vector: Final weight vector\n",
    "           \n",
    "\n",
    "        '''\n",
    "        self.w = np.zeros((X.shape[1]))\n",
    "        self.w_all = [] # all params across iterations.\n",
    "        self.err_all = [] # error across iterations\n",
    "        mini_batch_id = 0\n",
    "\n",
    "        for epoch in range(num_epochs):\n",
    "            shuffled_indices = np.random.permutation(X.shape[0])\n",
    "            X_shuffled = X[shuffled_indices]\n",
    "            y_shuffled = y[shuffled_indices]\n",
    "            for i in range(0, X.shape[0], batch_size):\n",
    "                mini_batch_id += 1\n",
    "                xi = X_shuffled[i:i+minibatch_size]\n",
    "                yi = y_shuffled[i:i+minibatch_size]\n",
    "                \n",
    "                self.w_all.append(self.w)\n",
    "                self.err_all.append(self.loss(xi, yi))\n",
    "\n",
    "                dJdW = 2/batch_size * self.calculate_gradient(xi, yi)\n",
    "                self.w = self.update_weights(dJdW, self.learning_schedule(mini_batch_id))\n",
    "               \n",
    "\n",
    "        return self.w\n",
    "    \n",
    "    def sgd(self, X:np.ndarray, y:np.ndarray, \n",
    "                   num_epochs:int, batch_size:int) -> np.ndarray:\n",
    "        '''Estimates parameters of linear regression model through gradient descent.\n",
    "\n",
    "        Args:\n",
    "            X: Feature matrix of training data.\n",
    "            y: Label vector for training data\n",
    "            num_epochs: Number of training steps\n",
    "            batch_size: Number of examples in a batch\n",
    "        Returns:\n",
    "            Weight vector: Final weight vector\n",
    "            \n",
    "\n",
    "        '''\n",
    "        self.w = np.zeros((X.shape[1]))\n",
    "        self.w_all = [] # all params across iterations.\n",
    "        self.err_all = [] # error across iterations\n",
    "        mini_batch_id = 0\n",
    "\n",
    "        for epoch in range(num_epochs):\n",
    "            for i in range(X.shape[0]):\n",
    "                random_index = np.random.randint(X.shape[0])\n",
    "                xi = X_shuffled[random_index:random_index+1]\n",
    "                yi = y_shuffled[random_index:random_index+1]\n",
    "                \n",
    "                self.w_all.append(self.w)\n",
    "                self.err_all.append(self.loss(xi, yi))\n",
    "\n",
    "                gradients = 2 * self.calculate_gradient(xi, yi)\n",
    "                lr = self.learning_schedule(epoch * X.shape[0] + i)\n",
    "                self.w = self.update_weights(gradients, lr)\n",
    "               \n",
    "\n",
    "        return self.w\n",
    "    "
   ]
  },
  {
   "cell_type": "code",
   "execution_count": 10,
   "id": "73717a0b",
   "metadata": {
    "execution": {
     "iopub.execute_input": "2022-05-27T18:56:15.900137Z",
     "iopub.status.busy": "2022-05-27T18:56:15.899390Z",
     "iopub.status.idle": "2022-05-27T18:56:15.919204Z",
     "shell.execute_reply": "2022-05-27T18:56:15.918237Z"
    },
    "papermill": {
     "duration": 0.031312,
     "end_time": "2022-05-27T18:56:15.921796",
     "exception": false,
     "start_time": "2022-05-27T18:56:15.890484",
     "status": "completed"
    },
    "tags": []
   },
   "outputs": [],
   "source": [
    "lin_reg = LinReg()\n",
    "w = lin_reg.fit(X_train, y_train)\n",
    "\n",
    "# Check if the weight vector si same as the coefficient vector used fo rmaking the data:\n",
    "np.testing.assert_almost_equal(w[1:, :], coef, decimal=2)"
   ]
  },
  {
   "cell_type": "markdown",
   "id": "416614d9",
   "metadata": {
    "papermill": {
     "duration": 0.007222,
     "end_time": "2022-05-27T18:56:15.936869",
     "exception": false,
     "start_time": "2022-05-27T18:56:15.929647",
     "status": "completed"
    },
    "tags": []
   },
   "source": [
    "Let's check the estimated weight vector"
   ]
  },
  {
   "cell_type": "code",
   "execution_count": 11,
   "id": "ed688a11",
   "metadata": {
    "execution": {
     "iopub.execute_input": "2022-05-27T18:56:15.953302Z",
     "iopub.status.busy": "2022-05-27T18:56:15.952927Z",
     "iopub.status.idle": "2022-05-27T18:56:15.959903Z",
     "shell.execute_reply": "2022-05-27T18:56:15.958855Z"
    },
    "papermill": {
     "duration": 0.017783,
     "end_time": "2022-05-27T18:56:15.962190",
     "exception": false,
     "start_time": "2022-05-27T18:56:15.944407",
     "status": "completed"
    },
    "tags": []
   },
   "outputs": [
    {
     "data": {
      "text/plain": [
       "array([[ 1.        ,  1.        ,  1.        ,  1.        ,  1.        ],\n",
       "       [93.62122462,  5.19712837, 54.12963353, 70.90605195, 87.09691237],\n",
       "       [89.48166561, 54.75923762, 81.729777  , 45.23182845, 64.35776952],\n",
       "       [46.26229567, 86.82725054, 72.71690698, 74.27065212, 42.54933344],\n",
       "       [71.92017783, 22.84547413, 99.63339161, 97.47931621, 65.03256863],\n",
       "       [19.95424509, 68.02282424,  7.2198409 ,  3.06525022, 25.76828885],\n",
       "       [52.64026609, 73.15895218,  8.1629982 ,  6.0352084 , 24.7103234 ],\n",
       "       [15.95446801, 87.17835666, 21.92139874, 97.58652558, 33.68957918],\n",
       "       [71.40869321, 80.17280831, 33.94501925, 81.48251137,  8.01148464],\n",
       "       [18.21179157, 78.96985071, 65.87077755, 49.81957165, 55.53635509],\n",
       "       [16.74825823, 10.45678403, 63.64302495, 70.64757265,  3.15861448]])"
      ]
     },
     "execution_count": 11,
     "metadata": {},
     "output_type": "execute_result"
    }
   ],
   "source": [
    "w"
   ]
  },
  {
   "cell_type": "markdown",
   "id": "f0014909",
   "metadata": {
    "papermill": {
     "duration": 0.007461,
     "end_time": "2022-05-27T18:56:15.977479",
     "exception": false,
     "start_time": "2022-05-27T18:56:15.970018",
     "status": "completed"
    },
    "tags": []
   },
   "source": [
    "The weight vectors are along the column."
   ]
  },
  {
   "cell_type": "code",
   "execution_count": 12,
   "id": "f62ec35b",
   "metadata": {
    "execution": {
     "iopub.execute_input": "2022-05-27T18:56:15.994801Z",
     "iopub.status.busy": "2022-05-27T18:56:15.994394Z",
     "iopub.status.idle": "2022-05-27T18:56:16.005504Z",
     "shell.execute_reply": "2022-05-27T18:56:16.004266Z"
    },
    "papermill": {
     "duration": 0.022371,
     "end_time": "2022-05-27T18:56:16.007790",
     "exception": false,
     "start_time": "2022-05-27T18:56:15.985419",
     "status": "completed"
    },
    "tags": []
   },
   "outputs": [],
   "source": [
    "w = lin_reg.gd(X_train, y_train, num_epochs=100, lr=0.01)\n",
    "np.testing.assert_almost_equal(w[1:, :], coef, decimal=2)"
   ]
  },
  {
   "cell_type": "code",
   "execution_count": null,
   "id": "ee465d82",
   "metadata": {
    "papermill": {
     "duration": 0.007568,
     "end_time": "2022-05-27T18:56:16.023540",
     "exception": false,
     "start_time": "2022-05-27T18:56:16.015972",
     "status": "completed"
    },
    "tags": []
   },
   "outputs": [],
   "source": []
  }
 ],
 "metadata": {
  "kernelspec": {
   "display_name": "Python 3",
   "language": "python",
   "name": "python3"
  },
  "language_info": {
   "codemirror_mode": {
    "name": "ipython",
    "version": 3
   },
   "file_extension": ".py",
   "mimetype": "text/x-python",
   "name": "python",
   "nbconvert_exporter": "python",
   "pygments_lexer": "ipython3",
   "version": "3.7.12"
  },
  "papermill": {
   "default_parameters": {},
   "duration": 12.603674,
   "end_time": "2022-05-27T18:56:16.753093",
   "environment_variables": {},
   "exception": null,
   "input_path": "__notebook__.ipynb",
   "output_path": "__notebook__.ipynb",
   "parameters": {},
   "start_time": "2022-05-27T18:56:04.149419",
   "version": "2.3.4"
  }
 },
 "nbformat": 4,
 "nbformat_minor": 5
}
